{
 "cells": [
  {
   "cell_type": "code",
   "execution_count": 104,
   "metadata": {},
   "outputs": [],
   "source": [
    "from fpdf import FPDF\n",
    "import pandas as pd\n",
    "import seaborn as sns\n",
    "import matplotlib.pyplot as plt\n",
    "from matplotlib.backends.backend_agg import FigureCanvasAgg as FigureCanvas\n",
    "from matplotlib.figure import Figure\n",
    "import numpy as np\n",
    "from PIL import Image"
   ]
  },
  {
   "cell_type": "code",
   "execution_count": 105,
   "metadata": {},
   "outputs": [
    {
     "data": {
      "text/html": [
       "<div>\n",
       "<style scoped>\n",
       "    .dataframe tbody tr th:only-of-type {\n",
       "        vertical-align: middle;\n",
       "    }\n",
       "\n",
       "    .dataframe tbody tr th {\n",
       "        vertical-align: top;\n",
       "    }\n",
       "\n",
       "    .dataframe thead th {\n",
       "        text-align: right;\n",
       "    }\n",
       "</style>\n",
       "<table border=\"1\" class=\"dataframe\">\n",
       "  <thead>\n",
       "    <tr style=\"text-align: right;\">\n",
       "      <th></th>\n",
       "      <th>count</th>\n",
       "    </tr>\n",
       "    <tr>\n",
       "      <th>Geschlecht</th>\n",
       "      <th></th>\n",
       "    </tr>\n",
       "  </thead>\n",
       "  <tbody>\n",
       "    <tr>\n",
       "      <th>Männlich</th>\n",
       "      <td>417</td>\n",
       "    </tr>\n",
       "    <tr>\n",
       "      <th>Sonstiges</th>\n",
       "      <td>6</td>\n",
       "    </tr>\n",
       "    <tr>\n",
       "      <th>Weiblich</th>\n",
       "      <td>495</td>\n",
       "    </tr>\n",
       "  </tbody>\n",
       "</table>\n",
       "</div>"
      ],
      "text/plain": [
       "            count\n",
       "Geschlecht       \n",
       "Männlich      417\n",
       "Sonstiges       6\n",
       "Weiblich      495"
      ]
     },
     "execution_count": 105,
     "metadata": {},
     "output_type": "execute_result"
    }
   ],
   "source": [
    "data = pd.read_csv('data/survey.csv')\n",
    "gender = data[['Geschlecht']]\n",
    "gender = pd.DataFrame(gender.groupby('Geschlecht').value_counts())\n",
    "gender"
   ]
  },
  {
   "cell_type": "code",
   "execution_count": 157,
   "metadata": {},
   "outputs": [
    {
     "data": {
      "text/plain": [
       "(-1.0999993147730334,\n",
       " 1.0999999673701444,\n",
       " -1.09999936764862,\n",
       " 1.0999954555990754)"
      ]
     },
     "execution_count": 157,
     "metadata": {},
     "output_type": "execute_result"
    }
   ],
   "source": [
    "fig = Figure(figsize=(5,2), dpi=300)\n",
    "#fig = Figure()\n",
    "ax = fig.add_subplot()\n",
    "counts = gender['count'].to_list()\n",
    "labels = gender.index.to_list()\n",
    "wedges, texts, autotexts = ax.pie(counts, labels=labels, autopct='%1.1f%%')\n",
    "for text in texts:\n",
    "    text.set_fontsize(8)\n",
    "for auto in autotexts:\n",
    "    auto.set_fontsize(5)\n",
    "ax.axis('equal')"
   ]
  },
  {
   "cell_type": "code",
   "execution_count": 158,
   "metadata": {},
   "outputs": [
    {
     "data": {
      "text/plain": [
       "False"
      ]
     },
     "execution_count": 158,
     "metadata": {},
     "output_type": "execute_result"
    }
   ],
   "source": [
    "from fpdf.enums import XPos, YPos\n",
    "pdf = FPDF()\n",
    "pdf.add_page()\n",
    "pdf.set_font('helvetica', size=12)\n",
    "pdf.cell(40, 10, text='Hello World', border=1, new_x=XPos.LMARGIN, new_y=YPos.NEXT)\n",
    "#pdf.multi_cell(0, 5, text='What if there is a lot of text: jkfdlkfdskljdfsklsklfslkfjdslakfjkldsjfklöjsdlf jeioriahgnoiapsriownvkhöioaeiwnrjaghopew irnanboörzoqbejfuvpzcoaerwbagigdiaughbewufasdpguehwbwtuiapdzguvbwweuiptruzpwae9hvbduipzqrwpowaehbvuiapzruoawefsdnlvbgiouz4erwadofbcvuo4efuwöadjskvhbgpaefjwdvbfgfhoöaiwekdsvnbfgouwdlsjbufhoöaewdjslhfoisvogäwierldfjsäoäeöal^bdjv göowfiaejvhgoöawubjv fgöaoudfsjkhnvjufvöagfhögahbgswc jghoweirfjdsnvbgo4awrefjdlnv-bghowaefidjsklnfhägoaifjs iuwef oöuzr foöjö awirjgvhd', new_x=XPos.LMARGIN, new_y=YPos.NEXT)\n",
    "#pdf.multi_cell(0, 5, text='What if there is a lot of text: jkfdlkfdskljdfsklsklfslkfjdslakfjkldsjfklöjsdlf jeioriahgnoiapsriownvkhöioaeiwnrjaghopew irnanboörzoqbejfuvpzcoaerwbagigdiaughbewufasdpguehwbwtuiapdzguvbwweuiptruzpwae9hvbduipzqrwpowaehbvuiapzruoawefsdnlvbgiouz4erwadofbcvuo4efuwöadjskvhbgpaefjwdvbfgfhoöaiwekdsvnbfgouwdlsjbufhoöaewdjslhfoisvogäwierldfjsäoäeöal^bdjv göowfiaejvhgoöawubjv fgöaoudfsjkhnvjufvöagfhögahbgswc jghoweirfjdsnvbgo4awrefjdlnv-bghowaefidjsklnfhägoaifjs iuwef oöuzr foöjö awirjgvhd', new_x=XPos.LMARGIN, new_y=YPos.NEXT)\n"
   ]
  },
  {
   "cell_type": "code",
   "execution_count": 159,
   "metadata": {},
   "outputs": [],
   "source": [
    "canvas = FigureCanvas(fig)\n",
    "canvas.draw()\n",
    "img = Image.fromarray(np.asarray(canvas.buffer_rgba()))"
   ]
  },
  {
   "cell_type": "code",
   "execution_count": 160,
   "metadata": {},
   "outputs": [
    {
     "name": "stdout",
     "output_type": "stream",
     "text": [
      "142.50116666666662\n",
      "<PIL.Image.Image image mode=RGBA size=1500x600 at 0x129E8EBD0>\n"
     ]
    }
   ],
   "source": [
    "#pdf.image(img, w=pdf.epw)\n",
    "#pdf.image(img, w=pdf.epw)\n",
    "pdf.image(img, w=((pdf.epw/4)*3))\n",
    "print((pdf.epw/4)*3)\n",
    "print(img)\n",
    "pdf.output('hello_world.pdf')\n"
   ]
  }
 ],
 "metadata": {
  "kernelspec": {
   "display_name": ".venv",
   "language": "python",
   "name": "python3"
  },
  "language_info": {
   "codemirror_mode": {
    "name": "ipython",
    "version": 3
   },
   "file_extension": ".py",
   "mimetype": "text/x-python",
   "name": "python",
   "nbconvert_exporter": "python",
   "pygments_lexer": "ipython3",
   "version": "3.12.2"
  }
 },
 "nbformat": 4,
 "nbformat_minor": 2
}
