{
 "cells": [
  {
   "cell_type": "code",
   "execution_count": 23,
   "metadata": {},
   "outputs": [],
   "source": [
    "%matplotlib inline\n",
    "\n",
    "import toolparser as toolparser\n",
    "import matplotlib.pyplot as plt\n",
    "import numpy as np\n",
    "import pandas as pd"
   ]
  },
  {
   "cell_type": "code",
   "execution_count": 86,
   "metadata": {},
   "outputs": [],
   "source": [
    "df = toolparser.load_data_from_csv('../../../testing/data/survey.csv')\n",
    "#questions = toolparser.extract_features(df)"
   ]
  },
  {
   "cell_type": "code",
   "execution_count": 18,
   "metadata": {},
   "outputs": [
    {
     "data": {
      "text/plain": [
       "array(['Männlich', 'Sonstiges', 'Weiblich'], dtype=object)"
      ]
     },
     "execution_count": 18,
     "metadata": {},
     "output_type": "execute_result"
    }
   ],
   "source": [
    "data = toolparser.get_column_by_name(df, 'Geschlecht')\n",
    "np.unique(data)"
   ]
  },
  {
   "cell_type": "code",
   "execution_count": 87,
   "metadata": {},
   "outputs": [
    {
     "data": {
      "text/html": [
       "<div>\n",
       "<style scoped>\n",
       "    .dataframe tbody tr th:only-of-type {\n",
       "        vertical-align: middle;\n",
       "    }\n",
       "\n",
       "    .dataframe tbody tr th {\n",
       "        vertical-align: top;\n",
       "    }\n",
       "\n",
       "    .dataframe thead th {\n",
       "        text-align: right;\n",
       "    }\n",
       "</style>\n",
       "<table border=\"1\" class=\"dataframe\">\n",
       "  <thead>\n",
       "    <tr style=\"text-align: right;\">\n",
       "      <th></th>\n",
       "      <th>Geschlecht</th>\n",
       "    </tr>\n",
       "  </thead>\n",
       "  <tbody>\n",
       "    <tr>\n",
       "      <th>0</th>\n",
       "      <td>Weiblich</td>\n",
       "    </tr>\n",
       "    <tr>\n",
       "      <th>1</th>\n",
       "      <td>Weiblich</td>\n",
       "    </tr>\n",
       "    <tr>\n",
       "      <th>2</th>\n",
       "      <td>Männlich</td>\n",
       "    </tr>\n",
       "    <tr>\n",
       "      <th>3</th>\n",
       "      <td>Weiblich</td>\n",
       "    </tr>\n",
       "    <tr>\n",
       "      <th>4</th>\n",
       "      <td>Männlich</td>\n",
       "    </tr>\n",
       "    <tr>\n",
       "      <th>...</th>\n",
       "      <td>...</td>\n",
       "    </tr>\n",
       "    <tr>\n",
       "      <th>913</th>\n",
       "      <td>Weiblich</td>\n",
       "    </tr>\n",
       "    <tr>\n",
       "      <th>914</th>\n",
       "      <td>Männlich</td>\n",
       "    </tr>\n",
       "    <tr>\n",
       "      <th>915</th>\n",
       "      <td>Weiblich</td>\n",
       "    </tr>\n",
       "    <tr>\n",
       "      <th>916</th>\n",
       "      <td>Weiblich</td>\n",
       "    </tr>\n",
       "    <tr>\n",
       "      <th>917</th>\n",
       "      <td>Männlich</td>\n",
       "    </tr>\n",
       "  </tbody>\n",
       "</table>\n",
       "<p>918 rows × 1 columns</p>\n",
       "</div>"
      ],
      "text/plain": [
       "    Geschlecht\n",
       "0     Weiblich\n",
       "1     Weiblich\n",
       "2     Männlich\n",
       "3     Weiblich\n",
       "4     Männlich\n",
       "..         ...\n",
       "913   Weiblich\n",
       "914   Männlich\n",
       "915   Weiblich\n",
       "916   Weiblich\n",
       "917   Männlich\n",
       "\n",
       "[918 rows x 1 columns]"
      ]
     },
     "execution_count": 87,
     "metadata": {},
     "output_type": "execute_result"
    }
   ],
   "source": [
    "df = pd.DataFrame(df['Geschlecht'])\n",
    "#df_cat = df.astype('category')\n",
    "#df_cat.dtypes\n",
    "df"
   ]
  },
  {
   "cell_type": "code",
   "execution_count": 70,
   "metadata": {},
   "outputs": [
    {
     "data": {
      "text/plain": [
       "Geschlecht\n",
       "Weiblich      495\n",
       "Männlich      417\n",
       "Sonstiges       6\n",
       "Name: count, dtype: int64"
      ]
     },
     "execution_count": 70,
     "metadata": {},
     "output_type": "execute_result"
    }
   ],
   "source": [
    "df_cat.value_counts()"
   ]
  },
  {
   "cell_type": "code",
   "execution_count": 89,
   "metadata": {},
   "outputs": [],
   "source": [
    "categories = df['Geschlecht'].unique()"
   ]
  },
  {
   "cell_type": "code",
   "execution_count": 84,
   "metadata": {},
   "outputs": [
    {
     "data": {
      "text/plain": [
       "<Axes: ylabel='count'>"
      ]
     },
     "execution_count": 84,
     "metadata": {},
     "output_type": "execute_result"
    },
    {
     "data": {
      "image/png": "[encoded data removed]",
      "text/plain": [
       "<Figure size 640x480 with 1 Axes>"
      ]
     },
     "metadata": {},
     "output_type": "display_data"
    }
   ],
   "source": [
    "df.value_counts().plot.pie(y=categories, autopct='%1.1f%%')"
   ]
  },
  {
   "cell_type": "code",
   "execution_count": 98,
   "metadata": {},
   "outputs": [
    {
     "data": {
      "text/html": [
       "<div>\n",
       "<style scoped>\n",
       "    .dataframe tbody tr th:only-of-type {\n",
       "        vertical-align: middle;\n",
       "    }\n",
       "\n",
       "    .dataframe tbody tr th {\n",
       "        vertical-align: top;\n",
       "    }\n",
       "\n",
       "    .dataframe thead th {\n",
       "        text-align: right;\n",
       "    }\n",
       "</style>\n",
       "<table border=\"1\" class=\"dataframe\">\n",
       "  <thead>\n",
       "    <tr style=\"text-align: right;\">\n",
       "      <th></th>\n",
       "      <th>count</th>\n",
       "    </tr>\n",
       "    <tr>\n",
       "      <th>Geschlecht</th>\n",
       "      <th></th>\n",
       "    </tr>\n",
       "  </thead>\n",
       "  <tbody>\n",
       "    <tr>\n",
       "      <th>Weiblich</th>\n",
       "      <td>495</td>\n",
       "    </tr>\n",
       "    <tr>\n",
       "      <th>Männlich</th>\n",
       "      <td>417</td>\n",
       "    </tr>\n",
       "    <tr>\n",
       "      <th>Sonstiges</th>\n",
       "      <td>6</td>\n",
       "    </tr>\n",
       "  </tbody>\n",
       "</table>\n",
       "</div>"
      ],
      "text/plain": [
       "            count\n",
       "Geschlecht       \n",
       "Weiblich      495\n",
       "Männlich      417\n",
       "Sonstiges       6"
      ]
     },
     "execution_count": 98,
     "metadata": {},
     "output_type": "execute_result"
    }
   ],
   "source": [
    "import seaborn as sns\n",
    "gender_count = pd.DataFrame(df.value_counts())\n",
    "gender_count"
   ]
  },
  {
   "cell_type": "code",
   "execution_count": 100,
   "metadata": {},
   "outputs": [
    {
     "data": {
      "text/plain": [
       "<Axes: xlabel='count', ylabel='Geschlecht'>"
      ]
     },
     "execution_count": 100,
     "metadata": {},
     "output_type": "execute_result"
    },
    {
     "data": {
      "image/png": "[encoded data removed]",
      "text/plain": [
       "<Figure size 640x480 with 1 Axes>"
      ]
     },
     "metadata": {},
     "output_type": "display_data"
    }
   ],
   "source": [
    "sns.barplot(gender_count, y='Geschlecht', x='count')"
   ]
  },
  {
   "cell_type": "code",
   "execution_count": 49,
   "metadata": {},
   "outputs": [
    {
     "data": {
      "text/plain": [
       "0      Weiblich\n",
       "1      Weiblich\n",
       "2      Männlich\n",
       "3      Weiblich\n",
       "4      Männlich\n",
       "         ...   \n",
       "913    Weiblich\n",
       "914    Männlich\n",
       "915    Weiblich\n",
       "916    Weiblich\n",
       "917    Männlich\n",
       "Length: 918, dtype: category\n",
       "Categories (3, object): ['Weiblich', 'Männlich', 'Sonstiges']"
      ]
     },
     "execution_count": 49,
     "metadata": {},
     "output_type": "execute_result"
    }
   ],
   "source": [
    "category = df['Geschlecht'].unique()\n",
    "df = pd.Categorical(df['Geschlecht'], categories=category)\n",
    "s = pd.Series(df)\n",
    "s"
   ]
  },
  {
   "cell_type": "code",
   "execution_count": 4,
   "metadata": {},
   "outputs": [
    {
     "data": {
      "text/plain": [
       "60"
      ]
     },
     "execution_count": 4,
     "metadata": {},
     "output_type": "execute_result"
    }
   ],
   "source": [
    "len(questions)"
   ]
  },
  {
   "cell_type": "code",
   "execution_count": 3,
   "metadata": {},
   "outputs": [],
   "source": [
    "answers = toolparser.extract_possible_answers(df)"
   ]
  },
  {
   "cell_type": "code",
   "execution_count": 4,
   "metadata": {},
   "outputs": [
    {
     "data": {
      "text/html": [
       "<div>\n",
       "<style scoped>\n",
       "    .dataframe tbody tr th:only-of-type {\n",
       "        vertical-align: middle;\n",
       "    }\n",
       "\n",
       "    .dataframe tbody tr th {\n",
       "        vertical-align: top;\n",
       "    }\n",
       "\n",
       "    .dataframe thead th {\n",
       "        text-align: right;\n",
       "    }\n",
       "</style>\n",
       "<table border=\"1\" class=\"dataframe\">\n",
       "  <thead>\n",
       "    <tr style=\"text-align: right;\">\n",
       "      <th></th>\n",
       "      <th>Count</th>\n",
       "    </tr>\n",
       "    <tr>\n",
       "      <th>Geschlecht</th>\n",
       "      <th></th>\n",
       "    </tr>\n",
       "  </thead>\n",
       "  <tbody>\n",
       "    <tr>\n",
       "      <th>Männlich</th>\n",
       "      <td>417</td>\n",
       "    </tr>\n",
       "    <tr>\n",
       "      <th>Sonstiges</th>\n",
       "      <td>6</td>\n",
       "    </tr>\n",
       "    <tr>\n",
       "      <th>Weiblich</th>\n",
       "      <td>495</td>\n",
       "    </tr>\n",
       "  </tbody>\n",
       "</table>\n",
       "</div>"
      ],
      "text/plain": [
       "            Count\n",
       "Geschlecht       \n",
       "Männlich      417\n",
       "Sonstiges       6\n",
       "Weiblich      495"
      ]
     },
     "execution_count": 4,
     "metadata": {},
     "output_type": "execute_result"
    }
   ],
   "source": [
    "answers0 = toolparser.count_responses_for_unique_answers(df, question=questions[0])\n",
    "answers0"
   ]
  },
  {
   "cell_type": "code",
   "execution_count": 6,
   "metadata": {},
   "outputs": [
    {
     "data": {
      "text/plain": [
       "<Axes: ylabel='Geschlecht'>"
      ]
     },
     "execution_count": 6,
     "metadata": {},
     "output_type": "execute_result"
    },
    {
     "data": {
      "image/png": "[encoded data removed]",
      "text/plain": [
       "<Figure size 640x480 with 1 Axes>"
      ]
     },
     "metadata": {},
     "output_type": "display_data"
    }
   ],
   "source": [
    "answers0.plot(kind='barh')"
   ]
  },
  {
   "cell_type": "markdown",
   "metadata": {},
   "source": [
    "##### The following functionalities should be possible:\n",
    "Add absolute numbers of percentages for each category<br>\n",
    "Add a title<br>\n",
    "Add a legend (default location of optional?)<br>\n",
    "Choose colors<br>"
   ]
  },
  {
   "cell_type": "code",
   "execution_count": 10,
   "metadata": {},
   "outputs": [
    {
     "data": {
      "text/plain": [
       "<Axes: ylabel='Count'>"
      ]
     },
     "execution_count": 10,
     "metadata": {},
     "output_type": "execute_result"
    },
    {
     "data": {
      "image/png": "[encoded data removed]",
      "text/plain": [
       "<Figure size 640x480 with 1 Axes>"
      ]
     },
     "metadata": {},
     "output_type": "display_data"
    }
   ],
   "source": [
    "answers0.plot(kind='pie', y='Count', legend='Geschlecht')"
   ]
  },
  {
   "cell_type": "code",
   "execution_count": 7,
   "metadata": {},
   "outputs": [
    {
     "data": {
      "image/png": "[encoded data removed]",
      "text/plain": [
       "<Figure size 640x480 with 1 Axes>"
      ]
     },
     "metadata": {},
     "output_type": "display_data"
    }
   ],
   "source": [
    "from visualization.chartparameter import ChartParams\n",
    "from visualization.chartcreation import *\n",
    "\n",
    "bar = ChartParams(kind='bar')\n",
    "create_chart(answers0, bar)"
   ]
  },
  {
   "cell_type": "code",
   "execution_count": 5,
   "metadata": {},
   "outputs": [
    {
     "data": {
      "text/html": [
       "<div>\n",
       "<style scoped>\n",
       "    .dataframe tbody tr th:only-of-type {\n",
       "        vertical-align: middle;\n",
       "    }\n",
       "\n",
       "    .dataframe tbody tr th {\n",
       "        vertical-align: top;\n",
       "    }\n",
       "\n",
       "    .dataframe thead th {\n",
       "        text-align: right;\n",
       "    }\n",
       "</style>\n",
       "<table border=\"1\" class=\"dataframe\">\n",
       "  <thead>\n",
       "    <tr style=\"text-align: right;\">\n",
       "      <th></th>\n",
       "      <th>Bitte schätzen Sie Ihr ideologisches Weltbild ein.</th>\n",
       "      <th>Bitte schätzen Sie Ihre Wertevorstellung ein.</th>\n",
       "      <th>Sehen Sie Ihre politischen Anliegen in der aktuellen Regierung Ihres Landes (in dem Sie wählen dürfen) vertreten?</th>\n",
       "      <th>Impfstoff: AstraZeneca</th>\n",
       "      <th>Impfstoff: BioNTech/Pfizer</th>\n",
       "      <th>Impfstoff: Moderna</th>\n",
       "      <th>Impfstoff: Sputnik V</th>\n",
       "      <th>Impfstoff: Johnson &amp; Johnson</th>\n",
       "      <th>Impfstoff: Curevac</th>\n",
       "      <th>Impfstoff: Sinopharm</th>\n",
       "      <th>Hat sich Ihr Alkoholkonsum seit Beginn der COVID-19-Pandemie verändert?</th>\n",
       "    </tr>\n",
       "  </thead>\n",
       "  <tbody>\n",
       "    <tr>\n",
       "      <th>count</th>\n",
       "      <td>918.000000</td>\n",
       "      <td>918.000000</td>\n",
       "      <td>589.000000</td>\n",
       "      <td>918.000000</td>\n",
       "      <td>918.000000</td>\n",
       "      <td>918.000000</td>\n",
       "      <td>918.000000</td>\n",
       "      <td>918.000000</td>\n",
       "      <td>918.000000</td>\n",
       "      <td>918.000000</td>\n",
       "      <td>692.000000</td>\n",
       "    </tr>\n",
       "    <tr>\n",
       "      <th>mean</th>\n",
       "      <td>2.741830</td>\n",
       "      <td>2.993464</td>\n",
       "      <td>2.796265</td>\n",
       "      <td>3.142702</td>\n",
       "      <td>4.081699</td>\n",
       "      <td>3.751634</td>\n",
       "      <td>2.843137</td>\n",
       "      <td>3.360566</td>\n",
       "      <td>2.734205</td>\n",
       "      <td>2.630719</td>\n",
       "      <td>3.309249</td>\n",
       "    </tr>\n",
       "    <tr>\n",
       "      <th>std</th>\n",
       "      <td>0.747087</td>\n",
       "      <td>0.765933</td>\n",
       "      <td>0.794916</td>\n",
       "      <td>1.307768</td>\n",
       "      <td>1.126111</td>\n",
       "      <td>1.182097</td>\n",
       "      <td>1.225596</td>\n",
       "      <td>1.186829</td>\n",
       "      <td>1.229032</td>\n",
       "      <td>1.191488</td>\n",
       "      <td>0.944035</td>\n",
       "    </tr>\n",
       "    <tr>\n",
       "      <th>min</th>\n",
       "      <td>1.000000</td>\n",
       "      <td>1.000000</td>\n",
       "      <td>1.000000</td>\n",
       "      <td>1.000000</td>\n",
       "      <td>1.000000</td>\n",
       "      <td>1.000000</td>\n",
       "      <td>1.000000</td>\n",
       "      <td>1.000000</td>\n",
       "      <td>1.000000</td>\n",
       "      <td>1.000000</td>\n",
       "      <td>1.000000</td>\n",
       "    </tr>\n",
       "    <tr>\n",
       "      <th>25%</th>\n",
       "      <td>2.000000</td>\n",
       "      <td>3.000000</td>\n",
       "      <td>2.000000</td>\n",
       "      <td>2.000000</td>\n",
       "      <td>4.000000</td>\n",
       "      <td>3.000000</td>\n",
       "      <td>2.000000</td>\n",
       "      <td>3.000000</td>\n",
       "      <td>2.000000</td>\n",
       "      <td>2.000000</td>\n",
       "      <td>3.000000</td>\n",
       "    </tr>\n",
       "    <tr>\n",
       "      <th>50%</th>\n",
       "      <td>3.000000</td>\n",
       "      <td>3.000000</td>\n",
       "      <td>3.000000</td>\n",
       "      <td>3.000000</td>\n",
       "      <td>4.000000</td>\n",
       "      <td>4.000000</td>\n",
       "      <td>3.000000</td>\n",
       "      <td>3.000000</td>\n",
       "      <td>3.000000</td>\n",
       "      <td>3.000000</td>\n",
       "      <td>3.000000</td>\n",
       "    </tr>\n",
       "    <tr>\n",
       "      <th>75%</th>\n",
       "      <td>3.000000</td>\n",
       "      <td>4.000000</td>\n",
       "      <td>3.000000</td>\n",
       "      <td>4.000000</td>\n",
       "      <td>5.000000</td>\n",
       "      <td>5.000000</td>\n",
       "      <td>4.000000</td>\n",
       "      <td>4.000000</td>\n",
       "      <td>3.000000</td>\n",
       "      <td>3.000000</td>\n",
       "      <td>4.000000</td>\n",
       "    </tr>\n",
       "    <tr>\n",
       "      <th>max</th>\n",
       "      <td>4.000000</td>\n",
       "      <td>4.000000</td>\n",
       "      <td>4.000000</td>\n",
       "      <td>5.000000</td>\n",
       "      <td>5.000000</td>\n",
       "      <td>5.000000</td>\n",
       "      <td>5.000000</td>\n",
       "      <td>5.000000</td>\n",
       "      <td>5.000000</td>\n",
       "      <td>5.000000</td>\n",
       "      <td>5.000000</td>\n",
       "    </tr>\n",
       "  </tbody>\n",
       "</table>\n",
       "</div>"
      ],
      "text/plain": [
       "       Bitte schätzen Sie Ihr ideologisches Weltbild ein.  \\\n",
       "count                                         918.000000    \n",
       "mean                                            2.741830    \n",
       "std                                             0.747087    \n",
       "min                                             1.000000    \n",
       "25%                                             2.000000    \n",
       "50%                                             3.000000    \n",
       "75%                                             3.000000    \n",
       "max                                             4.000000    \n",
       "\n",
       "       Bitte schätzen Sie Ihre Wertevorstellung ein.  \\\n",
       "count                                     918.000000   \n",
       "mean                                        2.993464   \n",
       "std                                         0.765933   \n",
       "min                                         1.000000   \n",
       "25%                                         3.000000   \n",
       "50%                                         3.000000   \n",
       "75%                                         4.000000   \n",
       "max                                         4.000000   \n",
       "\n",
       "       Sehen Sie Ihre politischen Anliegen in der aktuellen Regierung Ihres Landes (in dem Sie wählen dürfen) vertreten?  \\\n",
       "count                                         589.000000                                                                   \n",
       "mean                                            2.796265                                                                   \n",
       "std                                             0.794916                                                                   \n",
       "min                                             1.000000                                                                   \n",
       "25%                                             2.000000                                                                   \n",
       "50%                                             3.000000                                                                   \n",
       "75%                                             3.000000                                                                   \n",
       "max                                             4.000000                                                                   \n",
       "\n",
       "       Impfstoff: AstraZeneca  Impfstoff: BioNTech/Pfizer  Impfstoff: Moderna  \\\n",
       "count              918.000000                  918.000000          918.000000   \n",
       "mean                 3.142702                    4.081699            3.751634   \n",
       "std                  1.307768                    1.126111            1.182097   \n",
       "min                  1.000000                    1.000000            1.000000   \n",
       "25%                  2.000000                    4.000000            3.000000   \n",
       "50%                  3.000000                    4.000000            4.000000   \n",
       "75%                  4.000000                    5.000000            5.000000   \n",
       "max                  5.000000                    5.000000            5.000000   \n",
       "\n",
       "       Impfstoff: Sputnik V  Impfstoff: Johnson & Johnson  Impfstoff: Curevac  \\\n",
       "count            918.000000                    918.000000          918.000000   \n",
       "mean               2.843137                      3.360566            2.734205   \n",
       "std                1.225596                      1.186829            1.229032   \n",
       "min                1.000000                      1.000000            1.000000   \n",
       "25%                2.000000                      3.000000            2.000000   \n",
       "50%                3.000000                      3.000000            3.000000   \n",
       "75%                4.000000                      4.000000            3.000000   \n",
       "max                5.000000                      5.000000            5.000000   \n",
       "\n",
       "       Impfstoff: Sinopharm  \\\n",
       "count            918.000000   \n",
       "mean               2.630719   \n",
       "std                1.191488   \n",
       "min                1.000000   \n",
       "25%                2.000000   \n",
       "50%                3.000000   \n",
       "75%                3.000000   \n",
       "max                5.000000   \n",
       "\n",
       "       Hat sich Ihr Alkoholkonsum seit Beginn der COVID-19-Pandemie verändert?  \n",
       "count                                         692.000000                        \n",
       "mean                                            3.309249                        \n",
       "std                                             0.944035                        \n",
       "min                                             1.000000                        \n",
       "25%                                             3.000000                        \n",
       "50%                                             3.000000                        \n",
       "75%                                             4.000000                        \n",
       "max                                             5.000000                        "
      ]
     },
     "execution_count": 5,
     "metadata": {},
     "output_type": "execute_result"
    }
   ],
   "source": [
    "df.describe()"
   ]
  },
  {
   "cell_type": "code",
   "execution_count": 3,
   "metadata": {},
   "outputs": [
    {
     "name": "stdout",
     "output_type": "stream",
     "text": [
      "918\n",
      "60\n"
     ]
    }
   ],
   "source": [
    "from analysis.survey_description import SurveyDescription\n",
    "\n",
    "survey1 = SurveyDescription(df)\n",
    "responses = survey1.count_responses()\n",
    "print(responses)\n",
    "print(survey1.number_of_questions())"
   ]
  },
  {
   "cell_type": "code",
   "execution_count": 4,
   "metadata": {},
   "outputs": [
    {
     "data": {
      "text/html": [
       "<div>\n",
       "<style scoped>\n",
       "    .dataframe tbody tr th:only-of-type {\n",
       "        vertical-align: middle;\n",
       "    }\n",
       "\n",
       "    .dataframe tbody tr th {\n",
       "        vertical-align: top;\n",
       "    }\n",
       "\n",
       "    .dataframe thead th {\n",
       "        text-align: right;\n",
       "    }\n",
       "</style>\n",
       "<table border=\"1\" class=\"dataframe\">\n",
       "  <thead>\n",
       "    <tr style=\"text-align: right;\">\n",
       "      <th></th>\n",
       "      <th>Completion_%</th>\n",
       "      <th>Count</th>\n",
       "    </tr>\n",
       "  </thead>\n",
       "  <tbody>\n",
       "    <tr>\n",
       "      <th>0</th>\n",
       "      <td>95</td>\n",
       "      <td>14</td>\n",
       "    </tr>\n",
       "    <tr>\n",
       "      <th>1</th>\n",
       "      <td>90</td>\n",
       "      <td>59</td>\n",
       "    </tr>\n",
       "    <tr>\n",
       "      <th>2</th>\n",
       "      <td>80</td>\n",
       "      <td>82</td>\n",
       "    </tr>\n",
       "    <tr>\n",
       "      <th>3</th>\n",
       "      <td>75</td>\n",
       "      <td>32</td>\n",
       "    </tr>\n",
       "    <tr>\n",
       "      <th>4</th>\n",
       "      <td>50</td>\n",
       "      <td>0</td>\n",
       "    </tr>\n",
       "  </tbody>\n",
       "</table>\n",
       "</div>"
      ],
      "text/plain": [
       "   Completion_%  Count\n",
       "0            95     14\n",
       "1            90     59\n",
       "2            80     82\n",
       "3            75     32\n",
       "4            50      0"
      ]
     },
     "execution_count": 4,
     "metadata": {},
     "output_type": "execute_result"
    }
   ],
   "source": [
    "survey1.surveycompletion_counts([95,90,80,75,50])"
   ]
  },
  {
   "cell_type": "code",
   "execution_count": 9,
   "metadata": {},
   "outputs": [
    {
     "data": {
      "text/plain": [
       "completion\n",
       "65.000000      1\n",
       "66.666667      2\n",
       "68.333333      8\n",
       "70.000000     14\n",
       "71.666667     15\n",
       "73.333333     18\n",
       "75.000000     32\n",
       "76.666667     43\n",
       "78.333333     62\n",
       "80.000000     82\n",
       "81.666667     75\n",
       "83.333333    104\n",
       "85.000000     89\n",
       "86.666667     96\n",
       "88.333333     92\n",
       "90.000000     59\n",
       "91.666667     66\n",
       "93.333333     46\n",
       "95.000000     14\n",
       "Name: completion, dtype: int64"
      ]
     },
     "execution_count": 9,
     "metadata": {},
     "output_type": "execute_result"
    }
   ],
   "source": [
    "# Testing = calculate completion pct per row\n",
    "num_cols = df.shape[1]\n",
    "df2 = df.copy()\n",
    "df2['completion'] = (df.notnull().sum(axis=1) / num_cols) * 100\n",
    "grouped = df2.groupby(['completion'])\n",
    "count_ = grouped['completion'].count()\n",
    "count_"
   ]
  }
 ],
 "metadata": {
  "kernelspec": {
   "display_name": "Python 3",
   "language": "python",
   "name": "python3"
  },
  "language_info": {
   "codemirror_mode": {
    "name": "ipython",
    "version": 3
   },
   "file_extension": ".py",
   "mimetype": "text/x-python",
   "name": "python",
   "nbconvert_exporter": "python",
   "pygments_lexer": "ipython3",
   "version": "3.12.2"
  }
 },
 "nbformat": 4,
 "nbformat_minor": 2
}
