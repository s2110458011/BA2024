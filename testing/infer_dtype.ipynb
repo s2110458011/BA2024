{
 "cells": [
  {
   "cell_type": "code",
   "execution_count": 1,
   "metadata": {},
   "outputs": [],
   "source": [
    "import pandas as pd"
   ]
  },
  {
   "cell_type": "code",
   "execution_count": 45,
   "metadata": {},
   "outputs": [],
   "source": [
    "df = pd.read_csv('data/survey.csv')"
   ]
  },
  {
   "cell_type": "code",
   "execution_count": 61,
   "metadata": {},
   "outputs": [],
   "source": [
    "column = 'Wie viele Flaschen Bier (1/2l) trinken Sie durchschnittlich in einer Woche?'\n",
    "df = pd.DataFrame(df[column].dropna())\n",
    "unique_values = df[column]\n",
    "parsed_values = []\n",
    "for val in unique_values:\n",
    "    try:\n",
    "        parsed_values.append(float(val.replace(',', '.')))\n",
    "    except ValueError:\n",
    "        parsed_values.append(val)\n"
   ]
  },
  {
   "cell_type": "code",
   "execution_count": 62,
   "metadata": {},
   "outputs": [],
   "source": [
    "for val in parsed_values:\n",
    "    if not isinstance(val, (int, float)):\n",
    "        print(val)"
   ]
  },
  {
   "cell_type": "code",
   "execution_count": 65,
   "metadata": {},
   "outputs": [
    {
     "name": "stdout",
     "output_type": "stream",
     "text": [
      "Numerical\n"
     ]
    }
   ],
   "source": [
    "if all(isinstance(val, (int, float)) for val in parsed_values):\n",
    "    print('Numerical')"
   ]
  },
  {
   "cell_type": "code",
   "execution_count": 48,
   "metadata": {},
   "outputs": [],
   "source": [
    "def infer_data_type(df, column):\n",
    "    df = pd.DataFrame(df[column].dropna())\n",
    "    unique_values = df[column].unique()\n",
    "    num_unique = len(unique_values)\n",
    "    num_records = len(df)\n",
    "\n",
    "    if all(isinstance(val, (int, float)) for val in unique_values):\n",
    "        return 'Numerical'\n",
    "    elif num_unique / num_records < 0.05:  # Arbitrary threshold for categorical data\n",
    "        return 'Categorical'\n",
    "    else:\n",
    "        return 'Unknown'"
   ]
  },
  {
   "cell_type": "code",
   "execution_count": 49,
   "metadata": {},
   "outputs": [],
   "source": [
    "data_type = infer_data_type(df, 'Wie viele Flaschen Bier (1/2l) trinken Sie durchschnittlich in einer Woche?')"
   ]
  },
  {
   "cell_type": "code",
   "execution_count": 50,
   "metadata": {},
   "outputs": [
    {
     "name": "stdout",
     "output_type": "stream",
     "text": [
      "Inferred data type: Categorical\n"
     ]
    }
   ],
   "source": [
    "print(\"Inferred data type:\", data_type)"
   ]
  },
  {
   "cell_type": "code",
   "execution_count": 21,
   "metadata": {},
   "outputs": [
    {
     "data": {
      "text/plain": [
       "array(['0', '1', '0,5', '3', '2', '6', nan, '4', '5', '0.1', '0.5', '15',\n",
       "       '1000000', '10', '8', '20', '0.2', '25', '30', '35', '1E+23',\n",
       "       '0.25', '16', '7', '11', '19', '14', '13', '18', '12', '9'],\n",
       "      dtype=object)"
      ]
     },
     "execution_count": 21,
     "metadata": {},
     "output_type": "execute_result"
    }
   ],
   "source": [
    "df['Wie viele Flaschen Bier (1/2l) trinken Sie durchschnittlich in einer Woche?'].unique()"
   ]
  }
 ],
 "metadata": {
  "kernelspec": {
   "display_name": ".venv",
   "language": "python",
   "name": "python3"
  },
  "language_info": {
   "codemirror_mode": {
    "name": "ipython",
    "version": 3
   },
   "file_extension": ".py",
   "mimetype": "text/x-python",
   "name": "python",
   "nbconvert_exporter": "python",
   "pygments_lexer": "ipython3",
   "version": "3.12.2"
  }
 },
 "nbformat": 4,
 "nbformat_minor": 2
}
